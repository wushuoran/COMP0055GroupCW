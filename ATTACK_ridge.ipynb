{
 "cells": [
  {
   "cell_type": "code",
   "execution_count": 7,
   "metadata": {
    "collapsed": true,
    "pycharm": {
     "is_executing": false
    }
   },
   "outputs": [],
   "source": [
    "import pandas as pd\n",
    "import numpy as np\n",
    "import flip_data\n",
    "import gd_poisoner\n",
    "import datetime"
   ]
  },
  {
   "cell_type": "markdown",
   "source": [
    "# Poisoning Attack\n",
    "N = n + p, which donates total number of samples\n",
    "n donates the number of unmodified samples\n",
    "p donates the number of poisoned samples\n",
    "Alpha = p/n, which donates the poisoning rate\n",
    "In usual cases, the poisoning rate is under 20% of total samples"
   ],
   "metadata": {
    "collapsed": false
   }
  },
  {
   "cell_type": "code",
   "execution_count": 8,
   "outputs": [
    {
     "name": "stdout",
     "text": [
      "ori train  1319\nmatrix train  1319\nori train y  1319\nmatrix train y  1319\n[[2.00900000e+03 0.00000000e+00 2.52077562e-01 2.22222222e-03\n  1.14221725e-01 6.87422107e-04 9.79591837e-01 9.89711711e-05\n  2.10892236e-01 1.60000000e-03 9.79166667e-01 1.74114916e-01\n  9.79381443e-01 0.00000000e+00 1.80413125e-03 1.54066216e-05\n  5.50724638e-01 5.36842105e-01 7.75316456e-01 6.47342995e-01]]\n0.6736242884250474\nPosion count:  300  Train count:  1319  Test count:  165  Proportion of poisoning:  0.1852995676343422\ny_opp [0. 0. 0. ... 0. 0. 0.]\nstats [0. 0. 0. ... 0. 0. 0.]\ntotal_prob 132.78026565464893\nx_pois len:  300\nx_pois col ct: 20\ny_pois len:  300\nclf:  Ridge(alpha=0.1, max_iter=10000)\n***************************\n**** Poison Count: 51 ****\n***************************\nIteration 0:\nObjective Value: 0.03494534387300666 Change: 0.03494534387300666\nValidation MSE: 0.005188149907315717\nTest MSE: 0.006773609749113295\n \n",
      "Iteration  1\nObjective Value: 0.04563850398189917  Difference:  0.010693160108892513\n \n",
      "Iteration  2\nObjective Value: 0.045819734275578256  Difference:  0.0001812302936790855\n \n",
      "Iteration  3\nObjective Value: 0.04607398589017753  Difference:  0.00025425161459927126\n \n",
      "Iteration  4\nObjective Value: 0.046386356845318694  Difference:  0.00031237095514116686\n \n",
      "Iteration  5\nObjective Value: 0.04656193133948422  Difference:  0.00017557449416552573\n \n",
      "Iteration  6\nObjective Value: 0.04671250798068782  Difference:  0.0001505766412036036\n \n",
      "Iteration  7\nObjective Value: 0.04675412349032521  Difference:  4.1615509637389636e-05\n \n",
      "Iteration  8\nObjective Value: 0.046737227559024055  Difference:  -1.689593130115713e-05\nNO PROGRESS MADE!\n \n",
      "Iteration  9\nObjective Value: 0.04673101056040054  Difference:  -2.3112929924670733e-05\nNO PROGRESS MADE!\n \n",
      "Iteration  10\nObjective Value: 0.046725977224802887  Difference:  -2.8146265522326075e-05\nNO PROGRESS MADE!\n \n",
      "Iteration  11\nObjective Value: 0.04672190445663796  Difference:  -3.221903368725437e-05\nNO PROGRESS MADE!\n \n",
      "Iteration  12\nObjective Value: 0.04671863647257504  Difference:  -3.54870177501701e-05\nNO PROGRESS MADE!\n \n",
      "Iteration  13\nObjective Value: 0.0467278258514686  Difference:  -2.6297638856614958e-05\nNO PROGRESS MADE!\n \n",
      "Iteration  14\nObjective Value: 0.046734512209907784  Difference:  -1.96112804174281e-05\nNO PROGRESS MADE!\n \n",
      "Iteration  15\nObjective Value: 0.046739460263402845  Difference:  -1.4663226922367878e-05\nNO PROGRESS MADE!\n \n",
      "Iteration  16\nObjective Value: 0.04674315020125167  Difference:  -1.0973289073540338e-05\nNO PROGRESS MADE!\n \n",
      "Iteration  17\nObjective Value: 0.04674590671600008  Difference:  -8.216774325130183e-06\nNO PROGRESS MADE!\n \n",
      "Iteration  18\nObjective Value: 0.04674796833527007  Difference:  -6.15515505514308e-06\nNO PROGRESS MADE!\n \n",
      "Iteration  19\nObjective Value: 0.04674951130305341  Difference:  -4.612187271803292e-06\nNO PROGRESS MADE!\n \n",
      "Iteration  20\nObjective Value: 0.04675066670144081  Difference:  -3.456788884401152e-06\nNO PROGRESS MADE!\n \n(51, 20) (1319, 20)\npoisres len:  51 , poisresy len:  51 , poisedx len:  1370 , poisedy len:  1370\nclfp  Ridge(alpha=0.1, max_iter=10000) , clf2  Ridge(alpha=0.1, max_iter=10000)\n \n***************************\n**** Poison Count: 106 ****\n***************************\nIteration 0:\nObjective Value: 0.03072853656287249 Change: 0.03072853656287249\nValidation MSE: 0.008124803791845431\nTest MSE: 0.010391816145262437\n \n",
      "Iteration  1\nObjective Value: 0.04530841946549603  Difference:  0.014579882902623544\n \n",
      "Iteration  2\nObjective Value: 0.04531589290341527  Difference:  7.473437919236492e-06\n \n",
      "Iteration  3\nObjective Value: 0.04532316705555857  Difference:  7.274152143299517e-06\n \n",
      "Iteration  4\nObjective Value: 0.04533045056985562  Difference:  7.283514297053151e-06\n \n",
      "Iteration  5\nObjective Value: 0.045337761982279845  Difference:  7.311412424222674e-06\n \n",
      "Iteration  6\nObjective Value: 0.04534509616864776  Difference:  7.334186367911888e-06\n \n"
     ],
     "output_type": "stream"
    },
    {
     "traceback": [
      "\u001b[1;31m---------------------------------------------------------------------------\u001b[0m",
      "\u001b[1;31mKeyboardInterrupt\u001b[0m                         Traceback (most recent call last)",
      "\u001b[1;32m~\\AppData\\Local\\Temp\\ipykernel_12368\\2002615191.py\u001b[0m in \u001b[0;36m<module>\u001b[1;34m\u001b[0m\n\u001b[0;32m     50\u001b[0m     \u001b[0mcurpoisy\u001b[0m \u001b[1;33m=\u001b[0m \u001b[0my_pois\u001b[0m\u001b[1;33m[\u001b[0m\u001b[1;33m:\u001b[0m\u001b[0mnumsamples\u001b[0m\u001b[1;33m]\u001b[0m\u001b[1;33m\u001b[0m\u001b[1;33m\u001b[0m\u001b[0m\n\u001b[0;32m     51\u001b[0m     \u001b[0mtrainfile\u001b[0m\u001b[1;33m.\u001b[0m\u001b[0mwrite\u001b[0m\u001b[1;33m(\u001b[0m\u001b[1;34m\"\\n\"\u001b[0m\u001b[1;33m)\u001b[0m\u001b[1;33m\u001b[0m\u001b[1;33m\u001b[0m\u001b[0m\n\u001b[1;32m---> 52\u001b[1;33m     \u001b[0mpoisres\u001b[0m\u001b[1;33m,\u001b[0m \u001b[0mpoisresy\u001b[0m \u001b[1;33m=\u001b[0m \u001b[0mpoiser\u001b[0m\u001b[1;33m.\u001b[0m\u001b[0mpoison_data\u001b[0m\u001b[1;33m(\u001b[0m\u001b[0mcurpoisx\u001b[0m\u001b[1;33m,\u001b[0m \u001b[0mcurpoisy\u001b[0m\u001b[1;33m)\u001b[0m\u001b[1;33m\u001b[0m\u001b[1;33m\u001b[0m\u001b[0m\n\u001b[0m\u001b[0;32m     53\u001b[0m     \u001b[0mprint\u001b[0m\u001b[1;33m(\u001b[0m\u001b[0mpoisres\u001b[0m\u001b[1;33m.\u001b[0m\u001b[0mshape\u001b[0m\u001b[1;33m,\u001b[0m\u001b[0mpoi_train_x\u001b[0m\u001b[1;33m.\u001b[0m\u001b[0mshape\u001b[0m\u001b[1;33m)\u001b[0m\u001b[1;33m\u001b[0m\u001b[1;33m\u001b[0m\u001b[0m\n\u001b[0;32m     54\u001b[0m     \u001b[0mpoisedx\u001b[0m \u001b[1;33m=\u001b[0m \u001b[0mnp\u001b[0m\u001b[1;33m.\u001b[0m\u001b[0mconcatenate\u001b[0m\u001b[1;33m(\u001b[0m\u001b[1;33m(\u001b[0m\u001b[0mpoi_train_x\u001b[0m\u001b[1;33m,\u001b[0m\u001b[0mpoisres\u001b[0m\u001b[1;33m)\u001b[0m\u001b[1;33m,\u001b[0m\u001b[0maxis\u001b[0m \u001b[1;33m=\u001b[0m \u001b[1;36m0\u001b[0m\u001b[1;33m)\u001b[0m\u001b[1;33m\u001b[0m\u001b[1;33m\u001b[0m\u001b[0m\n",
      "\u001b[1;32m~\\Desktop\\COMP0055GroupCW\\gd_poisoner.py\u001b[0m in \u001b[0;36mpoison_data\u001b[1;34m(self, x_pois, y_pois)\u001b[0m\n\u001b[0;32m     98\u001b[0m             \u001b[0mpois_params\u001b[0m \u001b[1;33m=\u001b[0m \u001b[1;33m[\u001b[0m\u001b[1;33m(\u001b[0m\u001b[0mx_pois\u001b[0m\u001b[1;33m[\u001b[0m\u001b[0mi\u001b[0m\u001b[1;33m]\u001b[0m\u001b[1;33m,\u001b[0m \u001b[0my_pois\u001b[0m\u001b[1;33m[\u001b[0m\u001b[0mi\u001b[0m\u001b[1;33m]\u001b[0m\u001b[1;33m,\u001b[0m \u001b[0mequation_7_left\u001b[0m\u001b[1;33m,\u001b[0m \u001b[0mclassifier\u001b[0m\u001b[1;33m,\u001b[0m \u001b[0mlam6\u001b[0m\u001b[1;33m)\u001b[0m \u001b[1;32mfor\u001b[0m \u001b[0mi\u001b[0m \u001b[1;32min\u001b[0m \u001b[0mrange\u001b[0m\u001b[1;33m(\u001b[0m\u001b[0mpoison_ct\u001b[0m\u001b[1;33m)\u001b[0m\u001b[1;33m]\u001b[0m\u001b[1;33m\u001b[0m\u001b[1;33m\u001b[0m\u001b[0m\n\u001b[0;32m     99\u001b[0m             \u001b[0mout_bound_ct\u001b[0m \u001b[1;33m=\u001b[0m \u001b[1;36m0\u001b[0m\u001b[1;33m\u001b[0m\u001b[1;33m\u001b[0m\u001b[0m\n\u001b[1;32m--> 100\u001b[1;33m             for i, cur_pois_res in enumerate(\n\u001b[0m\u001b[0;32m    101\u001b[0m                     \u001b[1;31m# using map to parallelize the computation of .poison points\u001b[0m\u001b[1;33m\u001b[0m\u001b[1;33m\u001b[0m\u001b[1;33m\u001b[0m\u001b[0m\n\u001b[0;32m    102\u001b[0m                     workerpool.map(self.poison_data_subroutine,\n",
      "\u001b[1;32m~\\Desktop\\COMP0055GroupCW\\gd_poisoner.py\u001b[0m in \u001b[0;36mpoison_data_subroutine\u001b[1;34m(self, in_tuple)\u001b[0m\n\u001b[0;32m    182\u001b[0m \u001b[1;33m\u001b[0m\u001b[0m\n\u001b[0;32m    183\u001b[0m         \u001b[1;31m# keep track of how many points are pushed out of bounds\u001b[0m\u001b[1;33m\u001b[0m\u001b[1;33m\u001b[0m\u001b[1;33m\u001b[0m\u001b[0m\n\u001b[1;32m--> 184\u001b[1;33m         \u001b[1;32mif\u001b[0m \u001b[1;33m(\u001b[0m\u001b[0my_pois_ele\u001b[0m \u001b[1;33m>=\u001b[0m \u001b[1;36m1\u001b[0m \u001b[1;32mand\u001b[0m \u001b[0mattack_y\u001b[0m \u001b[1;33m>=\u001b[0m \u001b[1;36m0\u001b[0m\u001b[1;33m)\u001b[0m \u001b[1;32mor\u001b[0m \u001b[1;33m(\u001b[0m\u001b[0my_pois_ele\u001b[0m \u001b[1;33m<=\u001b[0m \u001b[1;36m0\u001b[0m \u001b[1;32mand\u001b[0m \u001b[0mattack_y\u001b[0m \u001b[1;33m<=\u001b[0m \u001b[1;36m0\u001b[0m\u001b[1;33m)\u001b[0m\u001b[1;33m:\u001b[0m\u001b[1;33m\u001b[0m\u001b[1;33m\u001b[0m\u001b[0m\n\u001b[0m\u001b[0;32m    185\u001b[0m             \u001b[0moutofbounds\u001b[0m \u001b[1;33m=\u001b[0m \u001b[1;32mTrue\u001b[0m\u001b[1;33m\u001b[0m\u001b[1;33m\u001b[0m\u001b[0m\n\u001b[0;32m    186\u001b[0m         \u001b[1;32melse\u001b[0m\u001b[1;33m:\u001b[0m\u001b[1;33m\u001b[0m\u001b[1;33m\u001b[0m\u001b[0m\n",
      "\u001b[1;32m~\\Desktop\\COMP0055GroupCW\\gd_poisoner.py\u001b[0m in \u001b[0;36msearch_line\u001b[1;34m(self, x_pois_ele, y_pois_ele, attack, attack_y)\u001b[0m\n\u001b[0;32m    237\u001b[0m             \u001b[1;32mif\u001b[0m \u001b[1;33m(\u001b[0m\u001b[0mcount\u001b[0m \u001b[1;33m>\u001b[0m \u001b[1;36m0\u001b[0m\u001b[1;33m)\u001b[0m\u001b[1;33m:\u001b[0m\u001b[1;33m\u001b[0m\u001b[1;33m\u001b[0m\u001b[0m\n\u001b[0;32m    238\u001b[0m                 \u001b[0meta\u001b[0m \u001b[1;33m=\u001b[0m \u001b[0mself\u001b[0m\u001b[1;33m.\u001b[0m\u001b[0mbeta\u001b[0m \u001b[1;33m*\u001b[0m \u001b[0meta\u001b[0m\u001b[1;33m\u001b[0m\u001b[1;33m\u001b[0m\u001b[0m\n\u001b[1;32m--> 239\u001b[1;33m             \u001b[0mcount\u001b[0m \u001b[1;33m+=\u001b[0m \u001b[1;36m1\u001b[0m\u001b[1;33m\u001b[0m\u001b[1;33m\u001b[0m\u001b[0m\n\u001b[0m\u001b[0;32m    240\u001b[0m             \u001b[1;31m# Update the adversarial point and clip it to valid input range\u001b[0m\u001b[1;33m\u001b[0m\u001b[1;33m\u001b[0m\u001b[1;33m\u001b[0m\u001b[0m\n\u001b[0;32m    241\u001b[0m             \u001b[0mcurrent_x_pois_ele\u001b[0m \u001b[1;33m=\u001b[0m \u001b[0mcurrent_x_pois_ele\u001b[0m \u001b[1;33m+\u001b[0m \u001b[0meta\u001b[0m \u001b[1;33m*\u001b[0m \u001b[0mattack\u001b[0m\u001b[1;33m\u001b[0m\u001b[1;33m\u001b[0m\u001b[0m\n",
      "\u001b[1;32m~\\Desktop\\COMP0055GroupCW\\gd_poisoner.py\u001b[0m in \u001b[0;36mlearn_model\u001b[1;34m(self, x, y, classifier, lam)\u001b[0m\n\u001b[0;32m    493\u001b[0m         \u001b[0mbasesigma\u001b[0m \u001b[1;33m=\u001b[0m \u001b[0msuper\u001b[0m\u001b[1;33m(\u001b[0m\u001b[1;33m)\u001b[0m\u001b[1;33m.\u001b[0m\u001b[0mcompute_sigma\u001b[0m\u001b[1;33m(\u001b[0m\u001b[1;33m)\u001b[0m\u001b[1;33m\u001b[0m\u001b[1;33m\u001b[0m\u001b[0m\n\u001b[0;32m    494\u001b[0m         \u001b[1;31m# Add initial lambda to sigma\u001b[0m\u001b[1;33m\u001b[0m\u001b[1;33m\u001b[0m\u001b[1;33m\u001b[0m\u001b[0m\n\u001b[1;32m--> 495\u001b[1;33m         \u001b[0msigma\u001b[0m \u001b[1;33m=\u001b[0m \u001b[0mbasesigma\u001b[0m \u001b[1;33m+\u001b[0m \u001b[0mself\u001b[0m\u001b[1;33m.\u001b[0m\u001b[0minit_lam\u001b[0m \u001b[1;33m*\u001b[0m \u001b[0mnp\u001b[0m\u001b[1;33m.\u001b[0m\u001b[0meye\u001b[0m\u001b[1;33m(\u001b[0m\u001b[0mself\u001b[0m\u001b[1;33m.\u001b[0m\u001b[0mcol_amt\u001b[0m\u001b[1;33m)\u001b[0m\u001b[1;33m\u001b[0m\u001b[1;33m\u001b[0m\u001b[0m\n\u001b[0m\u001b[0;32m    496\u001b[0m         \u001b[1;32mreturn\u001b[0m \u001b[0msigma\u001b[0m\u001b[1;33m\u001b[0m\u001b[1;33m\u001b[0m\u001b[0m\n\u001b[0;32m    497\u001b[0m \u001b[1;33m\u001b[0m\u001b[0m\n",
      "\u001b[1;32m~\\AppData\\Local\\Programs\\Python\\Python37\\lib\\site-packages\\sklearn\\linear_model\\_ridge.py\u001b[0m in \u001b[0;36mfit\u001b[1;34m(self, X, y, sample_weight)\u001b[0m\n\u001b[0;32m   1009\u001b[0m             \u001b[0my_numeric\u001b[0m\u001b[1;33m=\u001b[0m\u001b[1;32mTrue\u001b[0m\u001b[1;33m,\u001b[0m\u001b[1;33m\u001b[0m\u001b[1;33m\u001b[0m\u001b[0m\n\u001b[0;32m   1010\u001b[0m         )\n\u001b[1;32m-> 1011\u001b[1;33m         \u001b[1;32mreturn\u001b[0m \u001b[0msuper\u001b[0m\u001b[1;33m(\u001b[0m\u001b[1;33m)\u001b[0m\u001b[1;33m.\u001b[0m\u001b[0mfit\u001b[0m\u001b[1;33m(\u001b[0m\u001b[0mX\u001b[0m\u001b[1;33m,\u001b[0m \u001b[0my\u001b[0m\u001b[1;33m,\u001b[0m \u001b[0msample_weight\u001b[0m\u001b[1;33m=\u001b[0m\u001b[0msample_weight\u001b[0m\u001b[1;33m)\u001b[0m\u001b[1;33m\u001b[0m\u001b[1;33m\u001b[0m\u001b[0m\n\u001b[0m\u001b[0;32m   1012\u001b[0m \u001b[1;33m\u001b[0m\u001b[0m\n\u001b[0;32m   1013\u001b[0m \u001b[1;33m\u001b[0m\u001b[0m\n",
      "\u001b[1;32m~\\AppData\\Local\\Programs\\Python\\Python37\\lib\\site-packages\\sklearn\\linear_model\\_ridge.py\u001b[0m in \u001b[0;36mfit\u001b[1;34m(self, X, y, sample_weight)\u001b[0m\n\u001b[0;32m    751\u001b[0m             \u001b[0mself\u001b[0m\u001b[1;33m.\u001b[0m\u001b[0mcopy_X\u001b[0m\u001b[1;33m,\u001b[0m\u001b[1;33m\u001b[0m\u001b[1;33m\u001b[0m\u001b[0m\n\u001b[0;32m    752\u001b[0m             \u001b[0msample_weight\u001b[0m\u001b[1;33m=\u001b[0m\u001b[0msample_weight\u001b[0m\u001b[1;33m,\u001b[0m\u001b[1;33m\u001b[0m\u001b[1;33m\u001b[0m\u001b[0m\n\u001b[1;32m--> 753\u001b[1;33m             \u001b[0mreturn_mean\u001b[0m\u001b[1;33m=\u001b[0m\u001b[1;32mTrue\u001b[0m\u001b[1;33m,\u001b[0m\u001b[1;33m\u001b[0m\u001b[1;33m\u001b[0m\u001b[0m\n\u001b[0m\u001b[0;32m    754\u001b[0m         )\n\u001b[0;32m    755\u001b[0m \u001b[1;33m\u001b[0m\u001b[0m\n",
      "\u001b[1;32m~\\AppData\\Local\\Programs\\Python\\Python37\\lib\\site-packages\\sklearn\\linear_model\\_base.py\u001b[0m in \u001b[0;36m_preprocess_data\u001b[1;34m(X, y, fit_intercept, normalize, copy, sample_weight, return_mean, check_input)\u001b[0m\n\u001b[0;32m    269\u001b[0m                 )\n\u001b[0;32m    270\u001b[0m             \u001b[1;32melse\u001b[0m\u001b[1;33m:\u001b[0m\u001b[1;33m\u001b[0m\u001b[1;33m\u001b[0m\u001b[0m\n\u001b[1;32m--> 271\u001b[1;33m                 \u001b[0mX_offset\u001b[0m \u001b[1;33m=\u001b[0m \u001b[0mnp\u001b[0m\u001b[1;33m.\u001b[0m\u001b[0maverage\u001b[0m\u001b[1;33m(\u001b[0m\u001b[0mX\u001b[0m\u001b[1;33m,\u001b[0m \u001b[0maxis\u001b[0m\u001b[1;33m=\u001b[0m\u001b[1;36m0\u001b[0m\u001b[1;33m,\u001b[0m \u001b[0mweights\u001b[0m\u001b[1;33m=\u001b[0m\u001b[0msample_weight\u001b[0m\u001b[1;33m)\u001b[0m\u001b[1;33m\u001b[0m\u001b[1;33m\u001b[0m\u001b[0m\n\u001b[0m\u001b[0;32m    272\u001b[0m \u001b[1;33m\u001b[0m\u001b[0m\n\u001b[0;32m    273\u001b[0m             \u001b[0mX_offset\u001b[0m \u001b[1;33m=\u001b[0m \u001b[0mX_offset\u001b[0m\u001b[1;33m.\u001b[0m\u001b[0mastype\u001b[0m\u001b[1;33m(\u001b[0m\u001b[0mX\u001b[0m\u001b[1;33m.\u001b[0m\u001b[0mdtype\u001b[0m\u001b[1;33m,\u001b[0m \u001b[0mcopy\u001b[0m\u001b[1;33m=\u001b[0m\u001b[1;32mFalse\u001b[0m\u001b[1;33m)\u001b[0m\u001b[1;33m\u001b[0m\u001b[1;33m\u001b[0m\u001b[0m\n",
      "\u001b[1;32m<__array_function__ internals>\u001b[0m in \u001b[0;36maverage\u001b[1;34m(*args, **kwargs)\u001b[0m\n",
      "\u001b[1;32m~\\AppData\\Local\\Programs\\Python\\Python37\\lib\\site-packages\\numpy\\lib\\function_base.py\u001b[0m in \u001b[0;36maverage\u001b[1;34m(a, axis, weights, returned)\u001b[0m\n\u001b[0;32m    391\u001b[0m \u001b[1;33m\u001b[0m\u001b[0m\n\u001b[0;32m    392\u001b[0m     \u001b[1;32mif\u001b[0m \u001b[0mweights\u001b[0m \u001b[1;32mis\u001b[0m \u001b[1;32mNone\u001b[0m\u001b[1;33m:\u001b[0m\u001b[1;33m\u001b[0m\u001b[1;33m\u001b[0m\u001b[0m\n\u001b[1;32m--> 393\u001b[1;33m         \u001b[0mavg\u001b[0m \u001b[1;33m=\u001b[0m \u001b[0ma\u001b[0m\u001b[1;33m.\u001b[0m\u001b[0mmean\u001b[0m\u001b[1;33m(\u001b[0m\u001b[0maxis\u001b[0m\u001b[1;33m)\u001b[0m\u001b[1;33m\u001b[0m\u001b[1;33m\u001b[0m\u001b[0m\n\u001b[0m\u001b[0;32m    394\u001b[0m         \u001b[0mscl\u001b[0m \u001b[1;33m=\u001b[0m \u001b[0mavg\u001b[0m\u001b[1;33m.\u001b[0m\u001b[0mdtype\u001b[0m\u001b[1;33m.\u001b[0m\u001b[0mtype\u001b[0m\u001b[1;33m(\u001b[0m\u001b[0ma\u001b[0m\u001b[1;33m.\u001b[0m\u001b[0msize\u001b[0m\u001b[1;33m/\u001b[0m\u001b[0mavg\u001b[0m\u001b[1;33m.\u001b[0m\u001b[0msize\u001b[0m\u001b[1;33m)\u001b[0m\u001b[1;33m\u001b[0m\u001b[1;33m\u001b[0m\u001b[0m\n\u001b[0;32m    395\u001b[0m     \u001b[1;32melse\u001b[0m\u001b[1;33m:\u001b[0m\u001b[1;33m\u001b[0m\u001b[1;33m\u001b[0m\u001b[0m\n",
      "\u001b[1;32m~\\AppData\\Local\\Programs\\Python\\Python37\\lib\\site-packages\\numpy\\core\\_methods.py\u001b[0m in \u001b[0;36m_mean\u001b[1;34m(a, axis, dtype, out, keepdims)\u001b[0m\n\u001b[0;32m    149\u001b[0m             \u001b[0mis_float16_result\u001b[0m \u001b[1;33m=\u001b[0m \u001b[1;32mTrue\u001b[0m\u001b[1;33m\u001b[0m\u001b[1;33m\u001b[0m\u001b[0m\n\u001b[0;32m    150\u001b[0m \u001b[1;33m\u001b[0m\u001b[0m\n\u001b[1;32m--> 151\u001b[1;33m     \u001b[0mret\u001b[0m \u001b[1;33m=\u001b[0m \u001b[0mumr_sum\u001b[0m\u001b[1;33m(\u001b[0m\u001b[0marr\u001b[0m\u001b[1;33m,\u001b[0m \u001b[0maxis\u001b[0m\u001b[1;33m,\u001b[0m \u001b[0mdtype\u001b[0m\u001b[1;33m,\u001b[0m \u001b[0mout\u001b[0m\u001b[1;33m,\u001b[0m \u001b[0mkeepdims\u001b[0m\u001b[1;33m)\u001b[0m\u001b[1;33m\u001b[0m\u001b[1;33m\u001b[0m\u001b[0m\n\u001b[0m\u001b[0;32m    152\u001b[0m     \u001b[1;32mif\u001b[0m \u001b[0misinstance\u001b[0m\u001b[1;33m(\u001b[0m\u001b[0mret\u001b[0m\u001b[1;33m,\u001b[0m \u001b[0mmu\u001b[0m\u001b[1;33m.\u001b[0m\u001b[0mndarray\u001b[0m\u001b[1;33m)\u001b[0m\u001b[1;33m:\u001b[0m\u001b[1;33m\u001b[0m\u001b[1;33m\u001b[0m\u001b[0m\n\u001b[0;32m    153\u001b[0m         ret = um.true_divide(\n",
      "\u001b[1;31mKeyboardInterrupt\u001b[0m: "
     ],
     "ename": "KeyboardInterrupt",
     "evalue": "",
     "output_type": "error"
    }
   ],
   "source": [
    "poi_train_x = pd.read_csv('train_X.csv')\n",
    "print(\"ori train \", poi_train_x.shape[0])\n",
    "poi_train_x = np.matrix(poi_train_x.to_numpy())\n",
    "print(\"matrix train \", len(poi_train_x))\n",
    "poi_train_y = pd.read_csv('train_y.csv')\n",
    "print(\"ori train y \", poi_train_y.shape[0])\n",
    "poi_train_y = poi_train_y['Life Expectancy'].tolist()\n",
    "print(\"matrix train y \", len(poi_train_y))\n",
    "poi_test_x = pd.read_csv('test_X.csv')\n",
    "poi_test_x = np.matrix(poi_test_x.to_numpy())\n",
    "poi_test_y = pd.read_csv('test_y.csv')\n",
    "poi_test_y = poi_test_y['Life Expectancy'].tolist()\n",
    "poi_val_x = pd.read_csv('val_X.csv')\n",
    "poi_val_x = np.matrix(poi_val_x.to_numpy())\n",
    "poi_val_y = pd.read_csv('val_y.csv')\n",
    "poi_val_y = poi_val_y['Life Expectancy'].tolist()\n",
    "\n",
    "print (poi_train_x[0])\n",
    "print (poi_train_y[0])\n",
    "\n",
    "# num of poisoning points\n",
    "poison_ct = 300\n",
    "# num of points to train model\n",
    "train_ct = len(poi_train_x)\n",
    "test_ct = len(poi_test_x)\n",
    "# proportion of poisoning\n",
    "total_prop = poison_ct / (poison_ct + train_ct)\n",
    "print (\"Posion count: \", poison_ct, \" Train count: \", train_ct, \" Test count: \", test_ct, \" Proportion of poisoning: \", total_prop)\n",
    "\n",
    "x_pois, y_pois = flip_data.flip_data.perform_flip(poi_train_x,poi_train_y,poison_ct)\n",
    "\n",
    "eta = 0.01 # gradient descent step size (note gradients are normalized)\n",
    "beta = 0.05 # decay rate for line search\n",
    "sigma = 0.9 # line search stop condition\n",
    "epsilon = 1e-3 # poisoning stop condition\n",
    "poiser = gd_poisoner.ridge_poisoner(poi_train_x, poi_train_y, poi_test_x, poi_test_y, poi_val_x, poi_val_y,\\\n",
    "                                  eta, beta, sigma, epsilon)\n",
    "clf, _ = poiser.learn_model(np.concatenate((poi_train_x, x_pois), axis=0), poi_train_y + y_pois, None)\n",
    "print(\"clf: \", clf)\n",
    "err = poiser.compute_error(clf)[0]\n",
    "x_pois = np.matrix(x_pois)\n",
    "y_pois = y_pois[:]\n",
    "for i in  range(5):\n",
    "    curprop = (i + 1)*total_prop/5\n",
    "    numsamples = int(0.5 + train_ct*(curprop/(1 - curprop)))\n",
    "    curpoisx = x_pois[:numsamples,:]\n",
    "    curpoisy = y_pois[:numsamples]\n",
    "    poisres, poisresy = poiser.poison_data(curpoisx, curpoisy)\n",
    "    print(poisres.shape,poi_train_x.shape)\n",
    "    poisedx = np.concatenate((poi_train_x,poisres),axis = 0)\n",
    "    poisedy = poi_train_y + poisresy\n",
    "    clfp, _ = poiser.learn_model(poisedx,poisedy,None)\n",
    "    clf = poiser.init_classifier\n",
    "    print(\"poisres len: \",len(poisres),\", poisresy len: \",len(poisresy),\", poisedx len: \",len(poisedx),\", poisedy len: \",len(poisedy))\n",
    "    print(\"clfp \",clfp,\", clf2 \",clf)\n",
    "    print(\" \")\n",
    "    errgrd = poiser.compute_error(clf)\n",
    "    err = poiser.compute_error(clfp)\n",
    "\n",
    "print(\"poi_train_x \", len(poi_train_x),\\\n",
    "            \", poi_train_y \", len(poi_train_y),\\\n",
    "            \", poi_test_x\", len(poi_test_x),\\\n",
    "            \", poi_test_y\", len(poi_test_y),\\\n",
    "            \", poi_val_x\", len(poi_val_x),\\\n",
    "            \", poi_val_y\", len(poi_val_y))\n",
    "print(\"\")\n",
    "print(\"Unpoisoned\")\n",
    "print(\"Validation MSE:\", errgrd[0])\n",
    "print(\"Test MSE:\", errgrd[1])\n",
    "print('Poisoned:')\n",
    "print(\"Validation MSE:\", err[0])\n",
    "print(\"Test MSE:\", err[1])"
   ],
   "metadata": {
    "collapsed": false,
    "pycharm": {
     "is_executing": false
    }
   }
  }
 ],
 "metadata": {
  "kernelspec": {
   "display_name": "Python 3",
   "language": "python",
   "name": "python3"
  },
  "language_info": {
   "codemirror_mode": {
    "name": "ipython",
    "version": 2
   },
   "file_extension": ".py",
   "mimetype": "text/x-python",
   "name": "python",
   "nbconvert_exporter": "python",
   "pygments_lexer": "ipython2",
   "version": "2.7.6"
  },
  "pycharm": {
   "stem_cell": {
    "cell_type": "raw",
    "source": [],
    "metadata": {
     "collapsed": false
    }
   }
  }
 },
 "nbformat": 4,
 "nbformat_minor": 0
}