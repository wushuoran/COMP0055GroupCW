{
 "cells": [
  {
   "cell_type": "markdown",
   "source": [],
   "metadata": {
    "collapsed": false
   }
  },
  {
   "cell_type": "code",
   "execution_count": 1,
   "outputs": [],
   "source": [
    "import pandas as pd\n",
    "import numpy as np\n",
    "import flip_data\n",
    "import gd_poisoner\n",
    "import datetime"
   ],
   "metadata": {
    "collapsed": false,
    "pycharm": {
     "is_executing": false
    }
   }
  },
  {
   "cell_type": "markdown",
   "source": [
    "# Import Training, Testing and Validating Set"
   ],
   "metadata": {
    "collapsed": false
   }
  },
  {
   "cell_type": "code",
   "execution_count": 2,
   "outputs": [
    {
     "name": "stdout",
     "text": [
      "ori train  1319\nmatrix train  1319\nori train y  1319\nmatrix train y  1319\n[[2.00900000e+03 0.00000000e+00 2.52077562e-01 2.22222222e-03\n  1.14221725e-01 6.87422107e-04 9.79591837e-01 9.89711711e-05\n  2.10892236e-01 1.60000000e-03 9.79166667e-01 1.74114916e-01\n  9.79381443e-01 0.00000000e+00 1.80413125e-03 1.54066216e-05\n  5.50724638e-01 5.36842105e-01 7.75316456e-01 6.47342995e-01]]\n0.6736242884250474\n"
     ],
     "output_type": "stream"
    }
   ],
   "source": [
    "poi_train_x = pd.read_csv('train_X.csv')\n",
    "print(\"ori train \", poi_train_x.shape[0])\n",
    "poi_train_x = np.matrix(poi_train_x.to_numpy())\n",
    "print(\"matrix train \", len(poi_train_x))\n",
    "poi_train_y = pd.read_csv('train_y.csv')\n",
    "print(\"ori train y \", poi_train_y.shape[0])\n",
    "poi_train_y = poi_train_y['Life Expectancy'].tolist()\n",
    "print(\"matrix train y \", len(poi_train_y))\n",
    "poi_test_x = pd.read_csv('test_X.csv')\n",
    "poi_test_x = np.matrix(poi_test_x.to_numpy())\n",
    "poi_test_y = pd.read_csv('test_y.csv')\n",
    "poi_test_y = poi_test_y['Life Expectancy'].tolist()\n",
    "poi_val_x = pd.read_csv('val_X.csv')\n",
    "poi_val_x = np.matrix(poi_val_x.to_numpy())\n",
    "poi_val_y = pd.read_csv('val_y.csv')\n",
    "poi_val_y = poi_val_y['Life Expectancy'].tolist()\n",
    "\n",
    "print (poi_train_x[0])\n",
    "print (poi_train_y[0])"
   ],
   "metadata": {
    "collapsed": false,
    "pycharm": {
     "is_executing": false
    }
   }
  },
  {
   "cell_type": "markdown",
   "source": [
    "# Define Main Arguments"
   ],
   "metadata": {
    "collapsed": false
   }
  },
  {
   "cell_type": "code",
   "execution_count": 3,
   "outputs": [
    {
     "name": "stdout",
     "text": [
      "Posion count:  300  Train count:  1319  Test count:  165  Proportion of poisoning:  0.1852995676343422\n"
     ],
     "output_type": "stream"
    }
   ],
   "source": [
    "# num of poisoning points\n",
    "poison_ct = 300\n",
    "# num of points to train model\n",
    "train_ct = len(poi_train_x)\n",
    "test_ct = len(poi_test_x)\n",
    "# proportion of poisoning\n",
    "total_prop = poison_ct / (poison_ct + train_ct)\n",
    "print (\"Posion count: \", poison_ct, \" Train count: \", train_ct, \" Test count: \", test_ct, \" Proportion of poisoning: \", total_prop)"
   ],
   "metadata": {
    "collapsed": false,
    "pycharm": {
     "is_executing": false
    }
   }
  },
  {
   "cell_type": "markdown",
   "source": [
    "# Perform Flip"
   ],
   "metadata": {
    "collapsed": false
   }
  },
  {
   "cell_type": "code",
   "execution_count": 4,
   "outputs": [
    {
     "name": "stdout",
     "text": [
      "y_opp [0. 0. 0. ... 0. 0. 0.]\nstats [0. 0. 0. ... 0. 0. 0.]\ntotal_prob 132.78026565464893\nx_pois len:  300\nx_pois col ct: 20\ny_pois len:  300\n"
     ],
     "output_type": "stream"
    }
   ],
   "source": [
    "x_pois, y_pois = flip_data.flip_data.perform_flip(poi_train_x,poi_train_y,poison_ct)"
   ],
   "metadata": {
    "collapsed": false,
    "pycharm": {
     "is_executing": false
    }
   }
  },
  {
   "cell_type": "markdown",
   "source": [
    "# Show Attack Result after 'flipping' and 'flipping & poisoning' on the Model"
   ],
   "metadata": {
    "collapsed": false
   }
  },
  {
   "cell_type": "code",
   "execution_count": 5,
   "outputs": [
    {
     "name": "stdout",
     "text": [
      "clf:  LinearRegression()\n***************************\n**** Poison Count: 51 ****\n***************************\nIteration 0:\nObjective Value: 0.006213458687459452 Change: 0.006213458687459452\nValidation MSE: 0.004860100997983455\nTest MSE: 0.006689706258280645\n \n",
      "Iteration  1\nObjective Value: 0.004708619643921384  Difference:  -0.0015048390435380681\nNO PROGRESS MADE!\n \n",
      "Iteration  2\nObjective Value: 0.0047092372548897116  Difference:  -0.0015042214325697405\nNO PROGRESS MADE!\n \n",
      "Iteration  3\nObjective Value: 0.0047098062356463475  Difference:  -0.0015036524518131046\nNO PROGRESS MADE!\n \n",
      "Iteration  4\nObjective Value: 0.004710294045125223  Difference:  -0.0015031646423342288\nNO PROGRESS MADE!\n \n",
      "Iteration  5\nObjective Value: 0.004710568137639166  Difference:  -0.0015028905498202863\nNO PROGRESS MADE!\n \n",
      "Iteration  6\nObjective Value: 0.004710728634876709  Difference:  -0.0015027300525827427\nNO PROGRESS MADE!\n \n",
      "Iteration  7\nObjective Value: 0.004710825860167752  Difference:  -0.0015026328272916998\nNO PROGRESS MADE!\n \n",
      "Iteration  8\nObjective Value: 0.004710909134873261  Difference:  -0.001502549552586191\nNO PROGRESS MADE!\n \n",
      "Iteration  9\nObjective Value: 0.004710953339626759  Difference:  -0.0015025053478326927\nNO PROGRESS MADE!\n \n",
      "Iteration  10\nObjective Value: 0.004710987132305056  Difference:  -0.0015024715551543964\nNO PROGRESS MADE!\n \n",
      "Iteration  11\nObjective Value: 0.004711016732590608  Difference:  -0.001502441954868844\nNO PROGRESS MADE!\n \n",
      "Iteration  12\nObjective Value: 0.004711039142724641  Difference:  -0.0015024195447348107\nNO PROGRESS MADE!\n \n",
      "Iteration  13\nObjective Value: 0.004711056063495898  Difference:  -0.0015024026239635543\nNO PROGRESS MADE!\n \n",
      "Iteration  14\nObjective Value: 0.0047110688179385594  Difference:  -0.0015023898695208926\nNO PROGRESS MADE!\n \n",
      "Iteration  15\nObjective Value: 0.004711078419780633  Difference:  -0.0015023802676788194\nNO PROGRESS MADE!\n \n",
      "Iteration  16\nObjective Value: 0.004711085641454233  Difference:  -0.0015023730460052192\nNO PROGRESS MADE!\n \n",
      "Iteration  17\nObjective Value: 0.004711091069139018  Difference:  -0.001502367618320434\nNO PROGRESS MADE!\n \n",
      "Iteration  18\nObjective Value: 0.004711095146338202  Difference:  -0.0015023635411212499\nNO PROGRESS MADE!\n \n",
      "Iteration  19\nObjective Value: 0.00471109820786033  Difference:  -0.001502360479599122\nNO PROGRESS MADE!\n \n",
      "Iteration  20\nObjective Value: 0.00471110050604086  Difference:  -0.0015023581814185925\nNO PROGRESS MADE!\n \n",
      "Iteration  21\nObjective Value: 0.0047111022308236414  Difference:  -0.0015023564566358106\nNO PROGRESS MADE!\n \n",
      "Iteration  22\nObjective Value: 0.004711103525056334  Difference:  -0.0015023551624031182\nNO PROGRESS MADE!\n \n",
      "Iteration  23\nObjective Value: 0.004711104496094098  Difference:  -0.0015023541913653541\nNO PROGRESS MADE!\n \n",
      "Iteration  24\nObjective Value: 0.004711105224576777  Difference:  -0.0015023534628826754\nNO PROGRESS MADE!\n \n",
      "Iteration  25\nObjective Value: 0.004711105771053754  Difference:  -0.001502352916405698\nNO PROGRESS MADE!\n \n",
      "Iteration  26\nObjective Value: 0.004711106180976165  Difference:  -0.001502352506483287\nNO PROGRESS MADE!\n \n",
      "Iteration  27\nObjective Value: 0.00471110648845435  Difference:  -0.0015023521990051017\nNO PROGRESS MADE!\n \n",
      "Iteration  28\nObjective Value: 0.004711106719083459  Difference:  -0.001502351968375993\nNO PROGRESS MADE!\n \n",
      "Iteration  29\nObjective Value: 0.0047111068920668  Difference:  -0.0015023517953926518\nNO PROGRESS MADE!\n \n",
      "Iteration  30\nObjective Value: 0.004711107021810785  Difference:  -0.0015023516656486671\nNO PROGRESS MADE!\n \n(51, 20) (1319, 20)\npoisres len:  51 , poisresy len:  51 , poisedx len:  1370 , poisedy len:  1370\nclfp  LinearRegression() , clf2  LinearRegression()\n \n***************************\n**** Poison Count: 106 ****\n***************************\nIteration 0:\nObjective Value: 0.010881834576773226 Change: 0.010881834576773226\nValidation MSE: 0.00911492605395451\nTest MSE: 0.012207530172471275\n \n",
      "Iteration  1\nObjective Value: 0.004892628725568351  Difference:  -0.005989205851204876\nNO PROGRESS MADE!\n \n",
      "Iteration  2\nObjective Value: 0.004892629105326136  Difference:  -0.005989205471447091\nNO PROGRESS MADE!\n \n",
      "Iteration  3\nObjective Value: 0.004892629390148719  Difference:  -0.0059892051866245076\nNO PROGRESS MADE!\n \n",
      "Iteration  4\nObjective Value: 0.004892629603768048  Difference:  -0.005989204973005179\nNO PROGRESS MADE!\n \n",
      "Iteration  5\nObjective Value: 0.004892629763983886  Difference:  -0.005989204812789341\nNO PROGRESS MADE!\n \n",
      "Iteration  6\nObjective Value: 0.0048926298841465215  Difference:  -0.005989204692626705\nNO PROGRESS MADE!\n \n",
      "Iteration  7\nObjective Value: 0.004892629974268923  Difference:  -0.005989204602504303\nNO PROGRESS MADE!\n \n",
      "Iteration  8\nObjective Value: 0.004892630041860963  Difference:  -0.0059892045349122635\nNO PROGRESS MADE!\n \n",
      "Iteration  9\nObjective Value: 0.004892630092555127  Difference:  -0.005989204484218099\nNO PROGRESS MADE!\n \n",
      "Iteration  10\nObjective Value: 0.004892630130575826  Difference:  -0.005989204446197401\nNO PROGRESS MADE!\n \n",
      "Iteration  11\nObjective Value: 0.004892630159091393  Difference:  -0.005989204417681833\nNO PROGRESS MADE!\n \n",
      "Iteration  12\nObjective Value: 0.004892630180478094  Difference:  -0.005989204396295133\nNO PROGRESS MADE!\n \n",
      "Iteration  13\nObjective Value: 0.004892630196518127  Difference:  -0.0059892043802551\nNO PROGRESS MADE!\n \n",
      "Iteration  14\nObjective Value: 0.004892630208548163  Difference:  -0.005989204368225063\nNO PROGRESS MADE!\n \n",
      "Iteration  15\nObjective Value: 0.004892630217570698  Difference:  -0.0059892043592025285\nNO PROGRESS MADE!\n \n",
      "Iteration  16\nObjective Value: 0.0048926302243376  Difference:  -0.005989204352435626\nNO PROGRESS MADE!\n \n",
      "Iteration  17\nObjective Value: 0.004892630229412775  Difference:  -0.005989204347360452\nNO PROGRESS MADE!\n \n",
      "Iteration  18\nObjective Value: 0.004892630233219155  Difference:  -0.005989204343554071\nNO PROGRESS MADE!\n \n",
      "Iteration  19\nObjective Value: 0.004892630236073946  Difference:  -0.00598920434069928\nNO PROGRESS MADE!\n \n",
      "Iteration  20\nObjective Value: 0.004892630238215038  Difference:  -0.005989204338558188\nNO PROGRESS MADE!\n \n",
      "Iteration  21\nObjective Value: 0.004892630239820851  Difference:  -0.005989204336952375\nNO PROGRESS MADE!\n \n",
      "Iteration  22\nObjective Value: 0.004892630241025219  Difference:  -0.005989204335748007\nNO PROGRESS MADE!\n \n",
      "Iteration  23\nObjective Value: 0.004892630241928496  Difference:  -0.005989204334844731\nNO PROGRESS MADE!\n \n",
      "Iteration  24\nObjective Value: 0.004892630242605948  Difference:  -0.005989204334167279\nNO PROGRESS MADE!\n \n",
      "Iteration  25\nObjective Value: 0.004892630243114044  Difference:  -0.0059892043336591825\nNO PROGRESS MADE!\n \n",
      "Iteration  26\nObjective Value: 0.004892630243495106  Difference:  -0.00598920433327812\nNO PROGRESS MADE!\n \n",
      "Iteration  27\nObjective Value: 0.004892630243780905  Difference:  -0.005989204332992321\nNO PROGRESS MADE!\n \n",
      "Iteration  28\nObjective Value: 0.004892630243995254  Difference:  -0.005989204332777972\nNO PROGRESS MADE!\n \n",
      "Iteration  29\nObjective Value: 0.004892630244156019  Difference:  -0.005989204332617207\nNO PROGRESS MADE!\n \n",
      "Iteration  30\nObjective Value: 0.004892630244276595  Difference:  -0.0059892043324966315\nNO PROGRESS MADE!\n \n(106, 20) (1319, 20)\npoisres len:  106 , poisresy len:  106 , poisedx len:  1425 , poisedy len:  1425\nclfp  LinearRegression() , clf2  LinearRegression()\n \n***************************\n**** Poison Count: 165 ****\n***************************\nIteration 0:\nObjective Value: 0.015162755014060609 Change: 0.015162755014060609\nValidation MSE: 0.013397925979513416\nTest MSE: 0.016605599183542204\n \n",
      "Iteration  1\nObjective Value: 0.005008101809880993  Difference:  -0.010154653204179616\nNO PROGRESS MADE!\n \n",
      "Iteration  2\nObjective Value: 0.005008101810070858  Difference:  -0.010154653203989752\nNO PROGRESS MADE!\n \n",
      "Iteration  3\nObjective Value: 0.005008101810213261  Difference:  -0.010154653203847348\nNO PROGRESS MADE!\n \n",
      "Iteration  4\nObjective Value: 0.0050081018103200585  Difference:  -0.01015465320374055\nNO PROGRESS MADE!\n \n",
      "Iteration  5\nObjective Value: 0.00500810181040016  Difference:  -0.01015465320366045\nNO PROGRESS MADE!\n \n",
      "Iteration  6\nObjective Value: 0.005008101810460229  Difference:  -0.01015465320360038\nNO PROGRESS MADE!\n \n",
      "Iteration  7\nObjective Value: 0.005008101810505287  Difference:  -0.010154653203555322\nNO PROGRESS MADE!\n \n",
      "Iteration  8\nObjective Value: 0.00500810181053908  Difference:  -0.010154653203521529\nNO PROGRESS MADE!\n \n",
      "Iteration  9\nObjective Value: 0.005008101810564426  Difference:  -0.010154653203496181\nNO PROGRESS MADE!\n \n",
      "Iteration  10\nObjective Value: 0.0050081018105834355  Difference:  -0.010154653203477172\nNO PROGRESS MADE!\n \n",
      "Iteration  11\nObjective Value: 0.00500810181059769  Difference:  -0.01015465320346292\nNO PROGRESS MADE!\n \n",
      "Iteration  12\nObjective Value: 0.00500810181060838  Difference:  -0.010154653203452229\nNO PROGRESS MADE!\n \n",
      "Iteration  13\nObjective Value: 0.005008101810616403  Difference:  -0.010154653203444206\nNO PROGRESS MADE!\n \n",
      "Iteration  14\nObjective Value: 0.00500810181062241  Difference:  -0.010154653203438198\nNO PROGRESS MADE!\n \n",
      "Iteration  15\nObjective Value: 0.005008101810626928  Difference:  -0.010154653203433681\nNO PROGRESS MADE!\n \n",
      "Iteration  16\nObjective Value: 0.0050081018106303025  Difference:  -0.010154653203430307\nNO PROGRESS MADE!\n \n",
      "Iteration  17\nObjective Value: 0.00500810181063285  Difference:  -0.010154653203427759\nNO PROGRESS MADE!\n \n",
      "Iteration  18\nObjective Value: 0.00500810181063475  Difference:  -0.010154653203425859\nNO PROGRESS MADE!\n \n",
      "Iteration  19\nObjective Value: 0.005008101810636176  Difference:  -0.010154653203424433\nNO PROGRESS MADE!\n \n",
      "Iteration  20\nObjective Value: 0.005008101810637246  Difference:  -0.010154653203423363\nNO PROGRESS MADE!\n \n",
      "Iteration  21\nObjective Value: 0.005008101810638049  Difference:  -0.01015465320342256\nNO PROGRESS MADE!\n \n",
      "Iteration  22\nObjective Value: 0.00500810181063865  Difference:  -0.01015465320342196\nNO PROGRESS MADE!\n \n",
      "Iteration  23\nObjective Value: 0.005008101810639099  Difference:  -0.010154653203421508\nNO PROGRESS MADE!\n \n",
      "Iteration  24\nObjective Value: 0.0050081018106394384  Difference:  -0.01015465320342117\nNO PROGRESS MADE!\n \n",
      "Iteration  25\nObjective Value: 0.005008101810639688  Difference:  -0.01015465320342092\nNO PROGRESS MADE!\n \n",
      "Iteration  26\nObjective Value: 0.005008101810639878  Difference:  -0.010154653203420731\nNO PROGRESS MADE!\n \n",
      "Iteration  27\nObjective Value: 0.005008101810640028  Difference:  -0.01015465320342058\nNO PROGRESS MADE!\n \n",
      "Iteration  28\nObjective Value: 0.005008101810640132  Difference:  -0.010154653203420476\nNO PROGRESS MADE!\n \n",
      "Iteration  29\nObjective Value: 0.005008101810640214  Difference:  -0.010154653203420395\nNO PROGRESS MADE!\n \n",
      "Iteration  30\nObjective Value: 0.005008101810640275  Difference:  -0.010154653203420334\nNO PROGRESS MADE!\n \n(165, 20) (1319, 20)\npoisres len:  165 , poisresy len:  165 , poisedx len:  1484 , poisedy len:  1484\nclfp  LinearRegression() , clf2  LinearRegression()\n \n***************************\n**** Poison Count: 230 ****\n***************************\nIteration 0:\nObjective Value: 0.020193311254584345 Change: 0.020193311254584345\nValidation MSE: 0.01835207706772418\nTest MSE: 0.02204006000510496\n \n",
      "Iteration  1\nObjective Value: 0.00518510040408747  Difference:  -0.015008210850496875\nNO PROGRESS MADE!\n \n",
      "Iteration  2\nObjective Value: 0.005185100404087521  Difference:  -0.015008210850496823\nNO PROGRESS MADE!\n \n",
      "Iteration  3\nObjective Value: 0.005185100404087565  Difference:  -0.01500821085049678\nNO PROGRESS MADE!\n \n",
      "Iteration  4\nObjective Value: 0.005185100404087595  Difference:  -0.01500821085049675\nNO PROGRESS MADE!\n \n",
      "Iteration  5\nObjective Value: 0.005185100404087614  Difference:  -0.015008210850496731\nNO PROGRESS MADE!\n \n",
      "Iteration  6\nObjective Value: 0.00518510040408763  Difference:  -0.015008210850496716\nNO PROGRESS MADE!\n \n",
      "Iteration  7\nObjective Value: 0.005185100404087651  Difference:  -0.015008210850496695\nNO PROGRESS MADE!\n \n",
      "Iteration  8\nObjective Value: 0.005185100404087656  Difference:  -0.015008210850496688\nNO PROGRESS MADE!\n \n",
      "Iteration  9\nObjective Value: 0.005185100404087663  Difference:  -0.015008210850496681\nNO PROGRESS MADE!\n \n",
      "Iteration  10\nObjective Value: 0.005185100404087662  Difference:  -0.015008210850496683\nNO PROGRESS MADE!\n \n",
      "Iteration  11\nObjective Value: 0.005185100404087676  Difference:  -0.015008210850496669\nNO PROGRESS MADE!\n \n",
      "Iteration  12\nObjective Value: 0.005185100404087672  Difference:  -0.015008210850496674\nNO PROGRESS MADE!\n \n",
      "Iteration  13\nObjective Value: 0.005185100404087671  Difference:  -0.015008210850496674\nNO PROGRESS MADE!\n \n",
      "Iteration  14\nObjective Value: 0.0051851004040876746  Difference:  -0.01500821085049667\nNO PROGRESS MADE!\n \n",
      "Iteration  15\nObjective Value: 0.0051851004040876746  Difference:  -0.01500821085049667\nNO PROGRESS MADE!\n \n",
      "Iteration  16\nObjective Value: 0.005185100404087676  Difference:  -0.015008210850496669\nNO PROGRESS MADE!\n \n",
      "Iteration  17\nObjective Value: 0.005185100404087676  Difference:  -0.015008210850496669\nNO PROGRESS MADE!\n \n",
      "Iteration  18\nObjective Value: 0.0051851004040876815  Difference:  -0.015008210850496664\nNO PROGRESS MADE!\n \n",
      "Iteration  19\nObjective Value: 0.0051851004040876815  Difference:  -0.015008210850496664\nNO PROGRESS MADE!\n \n",
      "Iteration  20\nObjective Value: 0.00518510040408768  Difference:  -0.015008210850496665\nNO PROGRESS MADE!\n \n",
      "Iteration  21\nObjective Value: 0.005185100404087677  Difference:  -0.015008210850496667\nNO PROGRESS MADE!\n \n",
      "Iteration  22\nObjective Value: 0.00518510040408768  Difference:  -0.015008210850496665\nNO PROGRESS MADE!\n \n",
      "Iteration  23\nObjective Value: 0.005185100404087677  Difference:  -0.015008210850496667\nNO PROGRESS MADE!\n \n",
      "Iteration  24\nObjective Value: 0.005185100404087676  Difference:  -0.015008210850496669\nNO PROGRESS MADE!\n \n",
      "Iteration  25\nObjective Value: 0.005185100404087677  Difference:  -0.015008210850496667\nNO PROGRESS MADE!\n \n",
      "Iteration  26\nObjective Value: 0.00518510040408768  Difference:  -0.015008210850496665\nNO PROGRESS MADE!\n \n",
      "Iteration  27\nObjective Value: 0.005185100404087677  Difference:  -0.015008210850496667\nNO PROGRESS MADE!\n \n",
      "Iteration  28\nObjective Value: 0.00518510040408768  Difference:  -0.015008210850496665\nNO PROGRESS MADE!\n \n",
      "Iteration  29\nObjective Value: 0.005185100404087677  Difference:  -0.015008210850496667\nNO PROGRESS MADE!\n \n",
      "Iteration  30\nObjective Value: 0.005185100404087676  Difference:  -0.015008210850496669\nNO PROGRESS MADE!\n \n(230, 20) (1319, 20)\npoisres len:  230 , poisresy len:  230 , poisedx len:  1549 , poisedy len:  1549\nclfp  LinearRegression() , clf2  LinearRegression()\n \n***************************\n**** Poison Count: 300 ****\n***************************\nIteration 0:\nObjective Value: 0.02506288611984362 Change: 0.02506288611984362\nValidation MSE: 0.02320499567556049\nTest MSE: 0.026966742542976232\n \n",
      "Iteration  1\nObjective Value: 0.005335820574225869  Difference:  -0.01972706554561775\nNO PROGRESS MADE!\n \n",
      "Iteration  2\nObjective Value: 0.005335820574225867  Difference:  -0.019727065545617754\nNO PROGRESS MADE!\n \n",
      "Iteration  3\nObjective Value: 0.005335820574225871  Difference:  -0.01972706554561775\nNO PROGRESS MADE!\n \n",
      "Iteration  4\nObjective Value: 0.005335820574225869  Difference:  -0.01972706554561775\nNO PROGRESS MADE!\n \n",
      "Iteration  5\nObjective Value: 0.005335820574225867  Difference:  -0.019727065545617754\nNO PROGRESS MADE!\n \n",
      "Iteration  6\nObjective Value: 0.005335820574225867  Difference:  -0.019727065545617754\nNO PROGRESS MADE!\n \n",
      "Iteration  7\nObjective Value: 0.0053358205742258654  Difference:  -0.019727065545617754\nNO PROGRESS MADE!\n \n",
      "Iteration  8\nObjective Value: 0.0053358205742258654  Difference:  -0.019727065545617754\nNO PROGRESS MADE!\n \n",
      "Iteration  9\nObjective Value: 0.005335820574225867  Difference:  -0.019727065545617754\nNO PROGRESS MADE!\n \n",
      "Iteration  10\nObjective Value: 0.005335820574225871  Difference:  -0.01972706554561775\nNO PROGRESS MADE!\n \n",
      "Iteration  11\nObjective Value: 0.005335820574225867  Difference:  -0.019727065545617754\nNO PROGRESS MADE!\n \n",
      "Iteration  12\nObjective Value: 0.005335820574225867  Difference:  -0.019727065545617754\nNO PROGRESS MADE!\n \n",
      "Iteration  13\nObjective Value: 0.0053358205742258654  Difference:  -0.019727065545617754\nNO PROGRESS MADE!\n \n",
      "Iteration  14\nObjective Value: 0.005335820574225871  Difference:  -0.01972706554561775\nNO PROGRESS MADE!\n \n",
      "Iteration  15\nObjective Value: 0.005335820574225871  Difference:  -0.01972706554561775\nNO PROGRESS MADE!\n \n",
      "Iteration  16\nObjective Value: 0.005335820574225871  Difference:  -0.01972706554561775\nNO PROGRESS MADE!\n \n",
      "Iteration  17\nObjective Value: 0.005335820574225871  Difference:  -0.01972706554561775\nNO PROGRESS MADE!\n \n",
      "Iteration  18\nObjective Value: 0.005335820574225871  Difference:  -0.01972706554561775\nNO PROGRESS MADE!\n \n",
      "Iteration  19\nObjective Value: 0.005335820574225871  Difference:  -0.01972706554561775\nNO PROGRESS MADE!\n \n",
      "Iteration  20\nObjective Value: 0.005335820574225871  Difference:  -0.01972706554561775\nNO PROGRESS MADE!\n \n",
      "Iteration  21\nObjective Value: 0.005335820574225871  Difference:  -0.01972706554561775\nNO PROGRESS MADE!\n \n",
      "Iteration  22\nObjective Value: 0.005335820574225871  Difference:  -0.01972706554561775\nNO PROGRESS MADE!\n \n",
      "Iteration  23\nObjective Value: 0.005335820574225871  Difference:  -0.01972706554561775\nNO PROGRESS MADE!\n \n",
      "Iteration  24\nObjective Value: 0.005335820574225871  Difference:  -0.01972706554561775\nNO PROGRESS MADE!\n \n",
      "Iteration  25\nObjective Value: 0.005335820574225871  Difference:  -0.01972706554561775\nNO PROGRESS MADE!\n \n",
      "Iteration  26\nObjective Value: 0.005335820574225871  Difference:  -0.01972706554561775\nNO PROGRESS MADE!\n \n",
      "Iteration  27\nObjective Value: 0.005335820574225871  Difference:  -0.01972706554561775\nNO PROGRESS MADE!\n \n",
      "Iteration  28\nObjective Value: 0.005335820574225871  Difference:  -0.01972706554561775\nNO PROGRESS MADE!\n \n",
      "Iteration  29\nObjective Value: 0.005335820574225871  Difference:  -0.01972706554561775\nNO PROGRESS MADE!\n \n",
      "Iteration  30\nObjective Value: 0.005335820574225871  Difference:  -0.01972706554561775\nNO PROGRESS MADE!\n \n(300, 20) (1319, 20)\npoisres len:  300 , poisresy len:  300 , poisedx len:  1619 , poisedy len:  1619\nclfp  LinearRegression() , clf2  LinearRegression()\n \npoi_train_x  1319 , poi_train_y  1319 , poi_test_x 165 , poi_test_y 165 , poi_val_x 165 , poi_val_y 165\n\nUnpoisoned\nValidation MSE: 0.00352668829485452\nTest MSE: 0.004520931458746464\nPoisoned:\nValidation MSE: 0.02320499567556049\nTest MSE: 0.026966742542976232\n"
     ],
     "output_type": "stream"
    }
   ],
   "source": [
    "eta = 0.01 # gradient descent step size (note gradients are normalized)\n",
    "beta = 0.05 # decay rate for line search\n",
    "sigma = 0.9 # line search stop condition\n",
    "epsilon = 1e-3 # poisoning stop condition\n",
    "colmap = {}\n",
    "poiser = gd_poisoner.linear_poisoner(poi_train_x, poi_train_y, poi_test_x, poi_test_y, poi_val_x, poi_val_y,\\\n",
    "                                  eta, beta, sigma, epsilon)\n",
    "clf, _ = poiser.learn_model(np.concatenate((poi_train_x, x_pois), axis=0), poi_train_y + y_pois, None)\n",
    "print(\"clf: \", clf)\n",
    "err = poiser.compute_error(clf)[0]\n",
    "x_pois = np.matrix(x_pois)\n",
    "y_pois = y_pois[:]\n",
    "for i in  range(5):\n",
    "    curprop = (i + 1)*total_prop/5\n",
    "    numsamples = int(0.5 + train_ct*(curprop/(1 - curprop)))\n",
    "    curpoisx = x_pois[:numsamples,:]\n",
    "    curpoisy = y_pois[:numsamples]\n",
    "    poisres, poisresy = poiser.poison_data(curpoisx, curpoisy)\n",
    "    print(poisres.shape,poi_train_x.shape)\n",
    "    poisedx = np.concatenate((poi_train_x,poisres),axis = 0)\n",
    "    poisedy = poi_train_y + poisresy\n",
    "    clfp, _ = poiser.learn_model(poisedx,poisedy,None)\n",
    "    clf = poiser.init_classifier\n",
    "    print(\"poisres len: \",len(poisres),\", poisresy len: \",len(poisresy),\", poisedx len: \",len(poisedx),\", poisedy len: \",len(poisedy))\n",
    "    print(\"clfp \",clfp,\", clf2 \",clf)\n",
    "    print(\" \")\n",
    "    errgrd = poiser.compute_error(clf)\n",
    "    err = poiser.compute_error(clfp)\n",
    "\n",
    "print(\"poi_train_x \", len(poi_train_x),\\\n",
    "            \", poi_train_y \", len(poi_train_y),\\\n",
    "            \", poi_test_x\", len(poi_test_x),\\\n",
    "            \", poi_test_y\", len(poi_test_y),\\\n",
    "            \", poi_val_x\", len(poi_val_x),\\\n",
    "            \", poi_val_y\", len(poi_val_y))\n",
    "print(\"\")\n",
    "print(\"Unpoisoned\")\n",
    "print(\"Validation MSE:\", errgrd[0])\n",
    "print(\"Test MSE:\", errgrd[1])\n",
    "print('Poisoned:')\n",
    "print(\"Validation MSE:\", err[0])\n",
    "print(\"Test MSE:\", err[1])"
   ],
   "metadata": {
    "collapsed": false,
    "pycharm": {
     "is_executing": false
    }
   }
  },
  {
   "cell_type": "code",
   "execution_count": 5,
   "outputs": [],
   "source": [],
   "metadata": {
    "collapsed": false
   }
  }
 ],
 "metadata": {
  "kernelspec": {
   "display_name": "Python 3",
   "language": "python",
   "name": "python3"
  },
  "language_info": {
   "codemirror_mode": {
    "name": "ipython",
    "version": 2
   },
   "file_extension": ".py",
   "mimetype": "text/x-python",
   "name": "python",
   "nbconvert_exporter": "python",
   "pygments_lexer": "ipython2",
   "version": "2.7.6"
  },
  "pycharm": {
   "stem_cell": {
    "cell_type": "raw",
    "source": [],
    "metadata": {
     "collapsed": false
    }
   }
  }
 },
 "nbformat": 4,
 "nbformat_minor": 0
}