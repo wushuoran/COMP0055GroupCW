{
 "cells": [
  {
   "cell_type": "markdown",
   "id": "33dfa804",
   "metadata": {},
   "source": [
    "# Imports"
   ]
  },
  {
   "cell_type": "code",
   "execution_count": 1,
   "id": "3201f15a",
   "metadata": {},
   "outputs": [],
   "source": [
    "import pandas as pd\n",
    "import matplotlib.pyplot as plt\n",
    "from sklearn.model_selection import train_test_split\n",
    "from sklearn.linear_model import LinearRegression\n",
    "from sklearn.metrics import mean_squared_error"
   ]
  },
  {
   "cell_type": "markdown",
   "id": "ab4adfbe",
   "metadata": {},
   "source": [
    "# Load the Dataset"
   ]
  },
  {
   "cell_type": "code",
   "execution_count": 2,
   "id": "45a4f941",
   "metadata": {},
   "outputs": [],
   "source": [
    "df = pd.read_csv('Life Expectancy Data.csv')\n",
    "\n",
    "\n",
    "## Category \"Status\" to continuous ##\n",
    "for index, row in df.iterrows():\n",
    "    if row['Status'] == \"Developing\":\n",
    "        df.at[index, 'Status'] = 0\n",
    "    else:\n",
    "        df.at[index, 'Status'] = 1\n",
    "\n",
    "        \n",
    "\n",
    "## Min-Max normalisation ##\n",
    "\n",
    "df_normalised = df.copy()\n",
    "\n",
    "from sklearn.preprocessing import MinMaxScaler\n",
    "\n",
    "scaler = MinMaxScaler()\n",
    "df_normalised[['Status', 'Life Expectancy', 'Adult Mortality',\n",
    "       'Infant Deaths', 'Alcohol', 'Percentage Expenditure', 'Hepatitis B',\n",
    "       'Measles', 'BMI', 'Under-five Deaths', 'Polio', 'Total Expenditure',\n",
    "       'Diphtheria', 'HIV/AIDS', 'GDP', 'Population', 'Thinness 1-19 Years',\n",
    "       'Thinness 5-9 Years', 'Income Composition of Resources', 'Schooling']] = scaler.fit_transform(df_normalised[['Status', 'Life Expectancy', 'Adult Mortality',\n",
    "       'Infant Deaths', 'Alcohol', 'Percentage Expenditure', 'Hepatitis B',\n",
    "       'Measles', 'BMI', 'Under-five Deaths', 'Polio', 'Total Expenditure',\n",
    "       'Diphtheria', 'HIV/AIDS', 'GDP', 'Population', 'Thinness 1-19 Years',\n",
    "       'Thinness 5-9 Years', 'Income Composition of Resources', 'Schooling']])\n",
    "\n",
    "df_normalised = df_normalised.dropna() ## if NaN are causing too much trouble\n",
    "df_normalised\n",
    "\n",
    "\n",
    "\n",
    "## Date data split ##\n",
    "\n",
    "D_train = df_normalised[df_normalised['Year'] <= 2011]\n",
    "D_train_X = D_train.drop(columns = ['Life Expectancy', 'Country']).copy()\n",
    "D_train_y = D_train['Life Expectancy']\n",
    "\n",
    "D_val = df_normalised[(df_normalised['Year'] > 2011) & (df_normalised['Year'] <= 2013)]\n",
    "D_val_X = D_val.drop(columns = ['Life Expectancy', 'Country']).copy()\n",
    "D_val_y = D_val['Life Expectancy']\n",
    "\n",
    "D_test = df_normalised[df_normalised['Year'] > 2013]\n",
    "D_test_X = D_test.drop(columns = ['Life Expectancy', 'Country']).copy()\n",
    "D_test_y = D_test['Life Expectancy']\n",
    "\n",
    "\n",
    "## Output ##\n",
    "D_train_X.to_csv('D_train_X.csv', sep=',', encoding='utf-8', index=False)\n",
    "D_train_y.to_csv('D_train_y.csv', sep=',', encoding='utf-8', index=False)\n",
    "\n",
    "D_val_X.to_csv('D_val_X.csv', sep=',', encoding='utf-8', index=False)\n",
    "D_val_y.to_csv('D_val_y.csv', sep=',', encoding='utf-8', index=False)\n",
    "\n",
    "D_test_X.to_csv('D_test_X.csv', sep=',', encoding='utf-8', index=False)\n",
    "D_test_y.to_csv('D_test_y.csv', sep=',', encoding='utf-8', index=False)\n",
    "\n",
    "\n",
    "\n",
    "## Random data split ##\n",
    "\n",
    "df_normalised_X = df_normalised.drop(columns = ['Life Expectancy', 'Country']).copy()\n",
    "df_normalised_y = df_normalised['Life Expectancy']\n",
    "\n",
    "train_X, test_X, train_y, test_y = train_test_split(df_normalised_X, df_normalised_y, test_size=0.2, random_state=1)\n",
    "\n",
    "test_X, val_X, test_y, val_y = train_test_split(test_X, test_y, test_size=0.5, random_state=1)\n",
    "\n",
    "## Output ##\n",
    "train_X.to_csv('train_X.csv', sep=',', encoding='utf-8', index=False)\n",
    "train_y.to_csv('train_y.csv', sep=',', encoding='utf-8', index=False)\n",
    "\n",
    "val_X.to_csv('val_X.csv', sep=',', encoding='utf-8', index=False)\n",
    "val_y.to_csv('val_y.csv', sep=',', encoding='utf-8', index=False)\n",
    "\n",
    "test_X.to_csv('test_X.csv', sep=',', encoding='utf-8', index=False)\n",
    "test_y.to_csv('test_y.csv', sep=',', encoding='utf-8', index=False)"
   ]
  },
  {
   "cell_type": "code",
   "execution_count": 3,
   "id": "08cc1f95",
   "metadata": {},
   "outputs": [
    {
     "name": "stdout",
     "output_type": "stream",
     "text": [
      "1319 items in the training set\n",
      "165 items in the testing set\n"
     ]
    }
   ],
   "source": [
    "print(str(len(train_X)) + \" items in the training set\")\n",
    "print(str(len(test_X)) + \" items in the testing set\")"
   ]
  },
  {
   "cell_type": "markdown",
   "id": "7f9c1be1",
   "metadata": {},
   "source": [
    "# Main Code"
   ]
  },
  {
   "cell_type": "code",
   "execution_count": 4,
   "id": "1b2cf6a4",
   "metadata": {},
   "outputs": [
    {
     "data": {
      "text/html": [
       "<style>#sk-container-id-1 {color: black;background-color: white;}#sk-container-id-1 pre{padding: 0;}#sk-container-id-1 div.sk-toggleable {background-color: white;}#sk-container-id-1 label.sk-toggleable__label {cursor: pointer;display: block;width: 100%;margin-bottom: 0;padding: 0.3em;box-sizing: border-box;text-align: center;}#sk-container-id-1 label.sk-toggleable__label-arrow:before {content: \"▸\";float: left;margin-right: 0.25em;color: #696969;}#sk-container-id-1 label.sk-toggleable__label-arrow:hover:before {color: black;}#sk-container-id-1 div.sk-estimator:hover label.sk-toggleable__label-arrow:before {color: black;}#sk-container-id-1 div.sk-toggleable__content {max-height: 0;max-width: 0;overflow: hidden;text-align: left;background-color: #f0f8ff;}#sk-container-id-1 div.sk-toggleable__content pre {margin: 0.2em;color: black;border-radius: 0.25em;background-color: #f0f8ff;}#sk-container-id-1 input.sk-toggleable__control:checked~div.sk-toggleable__content {max-height: 200px;max-width: 100%;overflow: auto;}#sk-container-id-1 input.sk-toggleable__control:checked~label.sk-toggleable__label-arrow:before {content: \"▾\";}#sk-container-id-1 div.sk-estimator input.sk-toggleable__control:checked~label.sk-toggleable__label {background-color: #d4ebff;}#sk-container-id-1 div.sk-label input.sk-toggleable__control:checked~label.sk-toggleable__label {background-color: #d4ebff;}#sk-container-id-1 input.sk-hidden--visually {border: 0;clip: rect(1px 1px 1px 1px);clip: rect(1px, 1px, 1px, 1px);height: 1px;margin: -1px;overflow: hidden;padding: 0;position: absolute;width: 1px;}#sk-container-id-1 div.sk-estimator {font-family: monospace;background-color: #f0f8ff;border: 1px dotted black;border-radius: 0.25em;box-sizing: border-box;margin-bottom: 0.5em;}#sk-container-id-1 div.sk-estimator:hover {background-color: #d4ebff;}#sk-container-id-1 div.sk-parallel-item::after {content: \"\";width: 100%;border-bottom: 1px solid gray;flex-grow: 1;}#sk-container-id-1 div.sk-label:hover label.sk-toggleable__label {background-color: #d4ebff;}#sk-container-id-1 div.sk-serial::before {content: \"\";position: absolute;border-left: 1px solid gray;box-sizing: border-box;top: 0;bottom: 0;left: 50%;z-index: 0;}#sk-container-id-1 div.sk-serial {display: flex;flex-direction: column;align-items: center;background-color: white;padding-right: 0.2em;padding-left: 0.2em;position: relative;}#sk-container-id-1 div.sk-item {position: relative;z-index: 1;}#sk-container-id-1 div.sk-parallel {display: flex;align-items: stretch;justify-content: center;background-color: white;position: relative;}#sk-container-id-1 div.sk-item::before, #sk-container-id-1 div.sk-parallel-item::before {content: \"\";position: absolute;border-left: 1px solid gray;box-sizing: border-box;top: 0;bottom: 0;left: 50%;z-index: -1;}#sk-container-id-1 div.sk-parallel-item {display: flex;flex-direction: column;z-index: 1;position: relative;background-color: white;}#sk-container-id-1 div.sk-parallel-item:first-child::after {align-self: flex-end;width: 50%;}#sk-container-id-1 div.sk-parallel-item:last-child::after {align-self: flex-start;width: 50%;}#sk-container-id-1 div.sk-parallel-item:only-child::after {width: 0;}#sk-container-id-1 div.sk-dashed-wrapped {border: 1px dashed gray;margin: 0 0.4em 0.5em 0.4em;box-sizing: border-box;padding-bottom: 0.4em;background-color: white;}#sk-container-id-1 div.sk-label label {font-family: monospace;font-weight: bold;display: inline-block;line-height: 1.2em;}#sk-container-id-1 div.sk-label-container {text-align: center;}#sk-container-id-1 div.sk-container {/* jupyter's `normalize.less` sets `[hidden] { display: none; }` but bootstrap.min.css set `[hidden] { display: none !important; }` so we also need the `!important` here to be able to override the default hidden behavior on the sphinx rendered scikit-learn.org. See: https://github.com/scikit-learn/scikit-learn/issues/21755 */display: inline-block !important;position: relative;}#sk-container-id-1 div.sk-text-repr-fallback {display: none;}</style><div id=\"sk-container-id-1\" class=\"sk-top-container\"><div class=\"sk-text-repr-fallback\"><pre>LinearRegression()</pre><b>In a Jupyter environment, please rerun this cell to show the HTML representation or trust the notebook. <br />On GitHub, the HTML representation is unable to render, please try loading this page with nbviewer.org.</b></div><div class=\"sk-container\" hidden><div class=\"sk-item\"><div class=\"sk-estimator sk-toggleable\"><input class=\"sk-toggleable__control sk-hidden--visually\" id=\"sk-estimator-id-1\" type=\"checkbox\" checked><label for=\"sk-estimator-id-1\" class=\"sk-toggleable__label sk-toggleable__label-arrow\">LinearRegression</label><div class=\"sk-toggleable__content\"><pre>LinearRegression()</pre></div></div></div></div></div>"
      ],
      "text/plain": [
       "LinearRegression()"
      ]
     },
     "execution_count": 4,
     "metadata": {},
     "output_type": "execute_result"
    }
   ],
   "source": [
    "lr = LinearRegression()\n",
    "lr.fit(train_X, train_y)"
   ]
  },
  {
   "cell_type": "code",
   "execution_count": 5,
   "id": "65db1ddc",
   "metadata": {},
   "outputs": [
    {
     "data": {
      "image/png": "[encoded data removed]",
      "text/plain": [
       "<Figure size 432x288 with 1 Axes>"
      ]
     },
     "metadata": {
      "needs_background": "light"
     },
     "output_type": "display_data"
    },
    {
     "name": "stdout",
     "output_type": "stream",
     "text": [
      "MSE:0.0046245137503295956\n"
     ]
    }
   ],
   "source": [
    "y_pred_train = lr.predict(train_X)\n",
    "plt.scatter(train_y, y_pred_train)\n",
    "plt.xlabel(\"Data\")\n",
    "plt.ylabel(\"Predicted\")\n",
    "plt.show()\n",
    "print(\"MSE:\" + str(mean_squared_error(train_y, y_pred_train)))"
   ]
  },
  {
   "cell_type": "code",
   "execution_count": 6,
   "id": "6b445f7a",
   "metadata": {},
   "outputs": [
    {
     "data": {
      "image/png": "[encoded data removed]",
      "text/plain": [
       "<Figure size 432x288 with 1 Axes>"
      ]
     },
     "metadata": {
      "needs_background": "light"
     },
     "output_type": "display_data"
    },
    {
     "name": "stdout",
     "output_type": "stream",
     "text": [
      "MSE: 0.004520931458746479\n"
     ]
    }
   ],
   "source": [
    "y_pred = lr.predict(test_X)\n",
    "plt.scatter(test_y, y_pred)\n",
    "plt.xlabel(\"Data\")\n",
    "plt.ylabel(\"Predicted\")\n",
    "plt.show()\n",
    "print(\"MSE: \" + str(mean_squared_error(test_y, y_pred)))"
   ]
  },
  {
   "cell_type": "code",
   "execution_count": null,
   "id": "6969019d",
   "metadata": {},
   "outputs": [],
   "source": []
  },
  {
   "cell_type": "code",
   "execution_count": null,
   "id": "d87dc83f",
   "metadata": {},
   "outputs": [],
   "source": []
  },
  {
   "cell_type": "code",
   "execution_count": null,
   "id": "0f5cafd8",
   "metadata": {},
   "outputs": [],
   "source": []
  },
  {
   "cell_type": "code",
   "execution_count": null,
   "id": "f09d7fcf",
   "metadata": {},
   "outputs": [],
   "source": []
  },
  {
   "cell_type": "code",
   "execution_count": null,
   "id": "ac182901",
   "metadata": {},
   "outputs": [],
   "source": []
  },
  {
   "cell_type": "code",
   "execution_count": null,
   "id": "8d7a90fb",
   "metadata": {},
   "outputs": [],
   "source": []
  }
 ],
 "metadata": {
  "kernelspec": {
   "display_name": "Python 3 (ipykernel)",
   "language": "python",
   "name": "python3"
  },
  "language_info": {
   "codemirror_mode": {
    "name": "ipython",
    "version": 3
   },
   "file_extension": ".py",
   "mimetype": "text/x-python",
   "name": "python",
   "nbconvert_exporter": "python",
   "pygments_lexer": "ipython3",
   "version": "3.10.2"
  }
 },
 "nbformat": 4,
 "nbformat_minor": 5
}
